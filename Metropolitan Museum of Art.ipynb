{
 "cells": [
  {
   "cell_type": "code",
   "execution_count": 1,
   "metadata": {},
   "outputs": [],
   "source": [
    "import requests\n",
    "import pandas as pd\n",
    "import seaborn as sns\n",
    "import matplotlib.pyplot as plt\n",
    "import json"
   ]
  },
  {
   "cell_type": "markdown",
   "metadata": {},
   "source": [
    "# Работа с [API Metropolitan Museum of Art](https://metmuseum.github.io/)"
   ]
  },
  {
   "cell_type": "markdown",
   "metadata": {},
   "source": [
    "Информация по департаментам"
   ]
  },
  {
   "cell_type": "code",
   "execution_count": 2,
   "metadata": {},
   "outputs": [
    {
     "data": {
      "text/plain": [
       "[{'departmentId': 1, 'displayName': 'American Decorative Arts'},\n",
       " {'departmentId': 3, 'displayName': 'Ancient Near Eastern Art'},\n",
       " {'departmentId': 4, 'displayName': 'Arms and Armor'},\n",
       " {'departmentId': 5,\n",
       "  'displayName': 'Arts of Africa, Oceania, and the Americas'},\n",
       " {'departmentId': 6, 'displayName': 'Asian Art'},\n",
       " {'departmentId': 7, 'displayName': 'The Cloisters'},\n",
       " {'departmentId': 8, 'displayName': 'The Costume Institute'},\n",
       " {'departmentId': 9, 'displayName': 'Drawings and Prints'},\n",
       " {'departmentId': 10, 'displayName': 'Egyptian Art'},\n",
       " {'departmentId': 11, 'displayName': 'European Paintings'},\n",
       " {'departmentId': 12, 'displayName': 'European Sculpture and Decorative Arts'},\n",
       " {'departmentId': 13, 'displayName': 'Greek and Roman Art'},\n",
       " {'departmentId': 14, 'displayName': 'Islamic Art'},\n",
       " {'departmentId': 15, 'displayName': 'The Robert Lehman Collection'},\n",
       " {'departmentId': 16, 'displayName': 'The Libraries'},\n",
       " {'departmentId': 17, 'displayName': 'Medieval Art'},\n",
       " {'departmentId': 18, 'displayName': 'Musical Instruments'},\n",
       " {'departmentId': 19, 'displayName': 'Photographs'},\n",
       " {'departmentId': 21, 'displayName': 'Modern Art'}]"
      ]
     },
     "execution_count": 2,
     "metadata": {},
     "output_type": "execute_result"
    }
   ],
   "source": [
    "request = requests.get(f'https://collectionapi.metmuseum.org/public/collection/v1/departments')\n",
    "r_json = request.json()\n",
    "r_json['departments']"
   ]
  },
  {
   "cell_type": "markdown",
   "metadata": {},
   "source": [
    "_Посмотрим на произведения с подсолнухами_"
   ]
  },
  {
   "cell_type": "code",
   "execution_count": 3,
   "metadata": {},
   "outputs": [],
   "source": [
    "def get_art_ids(\n",
    "    search_request,\n",
    "    departmentId=0\n",
    "):\n",
    "    '''\n",
    "    Функция выдаёт список id произведений, удовлетворяющих текстовому запросу и департаменту\n",
    "    \n",
    "    Parameters\n",
    "    ----------\n",
    "    search_request: str\n",
    "        Запрос для произведения искусства\n",
    "    departmentId: int, default 0\n",
    "        Номер департамента\n",
    "            \n",
    "    \n",
    "    Returns\n",
    "    -------\n",
    "    art_ids: list\n",
    "        Список id нужных произведений\n",
    "    '''\n",
    "    if departmentId != 0:\n",
    "        request = requests.get(f'https://collectionapi.metmuseum.org/public/collection/v1/search?departmentId={departmentId}&q={search_request}')\n",
    "    else:   \n",
    "        request = requests.get(f'https://collectionapi.metmuseum.org/public/collection/v1/search?q={search_request}')\n",
    "    r_json = request.json()\n",
    "    art_ids = r_json['objectIDs']\n",
    "    \n",
    "    return art_ids"
   ]
  },
  {
   "cell_type": "code",
   "execution_count": 4,
   "metadata": {},
   "outputs": [],
   "source": [
    "search_request = 'sunflower'\n",
    "art_ids = get_art_ids(search_request)"
   ]
  },
  {
   "cell_type": "code",
   "execution_count": 5,
   "metadata": {},
   "outputs": [
    {
     "data": {
      "text/plain": [
       "[485308,\n",
       " 822590,\n",
       " 437112,\n",
       " 707887,\n",
       " 436524,\n",
       " 363282,\n",
       " 360837,\n",
       " 210191,\n",
       " 11922,\n",
       " 2032,\n",
       " 400581,\n",
       " 367817,\n",
       " 20141,\n",
       " 2019,\n",
       " 347980,\n",
       " 480725,\n",
       " 208554,\n",
       " 437115,\n",
       " 207869,\n",
       " 486590,\n",
       " 375281,\n",
       " 705155,\n",
       " 484935,\n",
       " 423400,\n",
       " 343052,\n",
       " 223828,\n",
       " 682927,\n",
       " 57922,\n",
       " 79739,\n",
       " 193938,\n",
       " 339347,\n",
       " 649813,\n",
       " 626832,\n",
       " 208218,\n",
       " 202228,\n",
       " 437984,\n",
       " 436534,\n",
       " 761604,\n",
       " 696949,\n",
       " 704667,\n",
       " 822589,\n",
       " 437329,\n",
       " 207753,\n",
       " 701016,\n",
       " 822570,\n",
       " 816522,\n",
       " 487043,\n",
       " 203893,\n",
       " 436580,\n",
       " 436252,\n",
       " 437526,\n",
       " 367434,\n",
       " 190739,\n",
       " 431264,\n",
       " 423237,\n",
       " 397949,\n",
       " 262423,\n",
       " 403496,\n",
       " 895564,\n",
       " 13644,\n",
       " 656530,\n",
       " 18362,\n",
       " 820022,\n",
       " 648617,\n",
       " 761731,\n",
       " 814626,\n",
       " 892559,\n",
       " 207967,\n",
       " 262430,\n",
       " 262428,\n",
       " 841928,\n",
       " 839296,\n",
       " 205386,\n",
       " 262378,\n",
       " 707697,\n",
       " 436535,\n",
       " 426804,\n",
       " 633526,\n",
       " 369073,\n",
       " 747779,\n",
       " 436529,\n",
       " 852414,\n",
       " 427872,\n",
       " 436530,\n",
       " 724844,\n",
       " 436144,\n",
       " 436121,\n",
       " 437980,\n",
       " 631808,\n",
       " 834580,\n",
       " 834585,\n",
       " 834765]"
      ]
     },
     "execution_count": 5,
     "metadata": {},
     "output_type": "execute_result"
    }
   ],
   "source": [
    "art_ids"
   ]
  },
  {
   "cell_type": "markdown",
   "metadata": {},
   "source": [
    "Сбор информации по произведениям"
   ]
  },
  {
   "cell_type": "code",
   "execution_count": 6,
   "metadata": {},
   "outputs": [],
   "source": [
    "def get_art_info(art_ids):\n",
    "    '''\n",
    "    Функция выводит информацию по произведениям с указанными id\n",
    "    \n",
    "    Parameters\n",
    "    ----------\n",
    "    art_ids: list\n",
    "        Список id произведений\n",
    "    \n",
    "    Returns\n",
    "    -------\n",
    "    df: pandas.DataFrame\n",
    "        df с информацией по произведениям\n",
    "    '''\n",
    "    df = pd.DataFrame([])\n",
    "    for cur_id in art_ids:\n",
    "        request_url = f'https://collectionapi.metmuseum.org/public/collection/v1/objects/{cur_id}'\n",
    "        request = requests.get(request_url)\n",
    "        r_json = request.json()\n",
    "        cur_df = pd.json_normalize(r_json)\n",
    "        df = pd.concat([df, cur_df], axis='index')\n",
    "    return df"
   ]
  },
  {
   "cell_type": "code",
   "execution_count": 7,
   "metadata": {},
   "outputs": [],
   "source": [
    "df = get_art_info(art_ids)\n",
    "df = df[['objectID', 'title', 'artistDisplayName', 'department', 'objectBeginDate', 'objectEndDate', 'period', 'objectName', 'culture']]"
   ]
  },
  {
   "cell_type": "code",
   "execution_count": 8,
   "metadata": {},
   "outputs": [
    {
     "data": {
      "text/html": [
       "<div>\n",
       "<style scoped>\n",
       "    .dataframe tbody tr th:only-of-type {\n",
       "        vertical-align: middle;\n",
       "    }\n",
       "\n",
       "    .dataframe tbody tr th {\n",
       "        vertical-align: top;\n",
       "    }\n",
       "\n",
       "    .dataframe thead th {\n",
       "        text-align: right;\n",
       "    }\n",
       "</style>\n",
       "<table border=\"1\" class=\"dataframe\">\n",
       "  <thead>\n",
       "    <tr style=\"text-align: right;\">\n",
       "      <th></th>\n",
       "      <th>objectID</th>\n",
       "      <th>title</th>\n",
       "      <th>artistDisplayName</th>\n",
       "      <th>department</th>\n",
       "      <th>objectBeginDate</th>\n",
       "      <th>objectEndDate</th>\n",
       "      <th>period</th>\n",
       "      <th>objectName</th>\n",
       "      <th>culture</th>\n",
       "    </tr>\n",
       "  </thead>\n",
       "  <tbody>\n",
       "    <tr>\n",
       "      <th>0</th>\n",
       "      <td>485308.0</td>\n",
       "      <td>Sunflower</td>\n",
       "      <td>Joan Mitchell</td>\n",
       "      <td>Modern and Contemporary Art</td>\n",
       "      <td>1969.0</td>\n",
       "      <td>1969.0</td>\n",
       "      <td></td>\n",
       "      <td>Painting</td>\n",
       "      <td></td>\n",
       "    </tr>\n",
       "    <tr>\n",
       "      <th>0</th>\n",
       "      <td>822590.0</td>\n",
       "      <td>Sunflower</td>\n",
       "      <td>Brigitte Coudrain</td>\n",
       "      <td>Drawings and Prints</td>\n",
       "      <td>1950.0</td>\n",
       "      <td>1975.0</td>\n",
       "      <td></td>\n",
       "      <td>Print</td>\n",
       "      <td></td>\n",
       "    </tr>\n",
       "    <tr>\n",
       "      <th>0</th>\n",
       "      <td>437112.0</td>\n",
       "      <td>Bouquet of Sunflowers</td>\n",
       "      <td>Claude Monet</td>\n",
       "      <td>European Paintings</td>\n",
       "      <td>1881.0</td>\n",
       "      <td>1881.0</td>\n",
       "      <td></td>\n",
       "      <td>Painting</td>\n",
       "      <td></td>\n",
       "    </tr>\n",
       "    <tr>\n",
       "      <th>0</th>\n",
       "      <td>707887.0</td>\n",
       "      <td>Botanical dish with white sunflower</td>\n",
       "      <td>Chelsea Porcelain Manufactory</td>\n",
       "      <td>European Sculpture and Decorative Arts</td>\n",
       "      <td>1750.0</td>\n",
       "      <td>1760.0</td>\n",
       "      <td></td>\n",
       "      <td>Dish</td>\n",
       "      <td></td>\n",
       "    </tr>\n",
       "    <tr>\n",
       "      <th>0</th>\n",
       "      <td>436524.0</td>\n",
       "      <td>Sunflowers</td>\n",
       "      <td>Vincent van Gogh</td>\n",
       "      <td>European Paintings</td>\n",
       "      <td>1887.0</td>\n",
       "      <td>1887.0</td>\n",
       "      <td></td>\n",
       "      <td>Painting</td>\n",
       "      <td></td>\n",
       "    </tr>\n",
       "  </tbody>\n",
       "</table>\n",
       "</div>"
      ],
      "text/plain": [
       "   objectID                                title  \\\n",
       "0  485308.0                            Sunflower   \n",
       "0  822590.0                            Sunflower   \n",
       "0  437112.0                Bouquet of Sunflowers   \n",
       "0  707887.0  Botanical dish with white sunflower   \n",
       "0  436524.0                           Sunflowers   \n",
       "\n",
       "               artistDisplayName                              department  \\\n",
       "0                  Joan Mitchell             Modern and Contemporary Art   \n",
       "0              Brigitte Coudrain                     Drawings and Prints   \n",
       "0                   Claude Monet                      European Paintings   \n",
       "0  Chelsea Porcelain Manufactory  European Sculpture and Decorative Arts   \n",
       "0               Vincent van Gogh                      European Paintings   \n",
       "\n",
       "   objectBeginDate  objectEndDate period objectName culture  \n",
       "0           1969.0         1969.0          Painting          \n",
       "0           1950.0         1975.0             Print          \n",
       "0           1881.0         1881.0          Painting          \n",
       "0           1750.0         1760.0              Dish          \n",
       "0           1887.0         1887.0          Painting          "
      ]
     },
     "execution_count": 8,
     "metadata": {},
     "output_type": "execute_result"
    }
   ],
   "source": [
    "df.head()"
   ]
  },
  {
   "cell_type": "code",
   "execution_count": 9,
   "metadata": {},
   "outputs": [
    {
     "data": {
      "text/plain": [
       "(92, 9)"
      ]
     },
     "execution_count": 9,
     "metadata": {},
     "output_type": "execute_result"
    }
   ],
   "source": [
    "df.shape"
   ]
  },
  {
   "cell_type": "markdown",
   "metadata": {},
   "source": [
    "_Информация по азиатским кошкам_"
   ]
  },
  {
   "cell_type": "code",
   "execution_count": 10,
   "metadata": {},
   "outputs": [],
   "source": [
    "art_ids = get_art_ids(\n",
    "    search_request='cat',\n",
    "    departmentId=6\n",
    ")"
   ]
  },
  {
   "cell_type": "code",
   "execution_count": 11,
   "metadata": {},
   "outputs": [],
   "source": [
    "asian_cats_df = get_art_info(art_ids)"
   ]
  },
  {
   "cell_type": "code",
   "execution_count": 12,
   "metadata": {},
   "outputs": [],
   "source": [
    "asian_cats_df = asian_cats_df[\n",
    "    ['objectID', \n",
    "     'title', \n",
    "     'artistDisplayName', \n",
    "     'department', \n",
    "     'objectBeginDate', \n",
    "     'objectEndDate', \n",
    "     'period', \n",
    "     'objectName', \n",
    "     'culture']\n",
    "]"
   ]
  },
  {
   "cell_type": "code",
   "execution_count": 13,
   "metadata": {},
   "outputs": [
    {
     "data": {
      "text/html": [
       "<div>\n",
       "<style scoped>\n",
       "    .dataframe tbody tr th:only-of-type {\n",
       "        vertical-align: middle;\n",
       "    }\n",
       "\n",
       "    .dataframe tbody tr th {\n",
       "        vertical-align: top;\n",
       "    }\n",
       "\n",
       "    .dataframe thead th {\n",
       "        text-align: right;\n",
       "    }\n",
       "</style>\n",
       "<table border=\"1\" class=\"dataframe\">\n",
       "  <thead>\n",
       "    <tr style=\"text-align: right;\">\n",
       "      <th></th>\n",
       "      <th>objectID</th>\n",
       "      <th>title</th>\n",
       "      <th>artistDisplayName</th>\n",
       "      <th>department</th>\n",
       "      <th>objectBeginDate</th>\n",
       "      <th>objectEndDate</th>\n",
       "      <th>period</th>\n",
       "      <th>objectName</th>\n",
       "      <th>culture</th>\n",
       "    </tr>\n",
       "  </thead>\n",
       "  <tbody>\n",
       "    <tr>\n",
       "      <th>0</th>\n",
       "      <td>49698</td>\n",
       "      <td>Cat</td>\n",
       "      <td>Zhang Yuguang</td>\n",
       "      <td>Asian Art</td>\n",
       "      <td>1900</td>\n",
       "      <td>1968</td>\n",
       "      <td></td>\n",
       "      <td>Folding fan mounted as an album leaf</td>\n",
       "      <td>China</td>\n",
       "    </tr>\n",
       "    <tr>\n",
       "      <th>0</th>\n",
       "      <td>49470</td>\n",
       "      <td>Cat</td>\n",
       "      <td>Wang Li</td>\n",
       "      <td>Asian Art</td>\n",
       "      <td>1813</td>\n",
       "      <td>1879</td>\n",
       "      <td>Qing dynasty (1644–1911)</td>\n",
       "      <td>Hanging scroll</td>\n",
       "      <td>China</td>\n",
       "    </tr>\n",
       "    <tr>\n",
       "      <th>0</th>\n",
       "      <td>53222</td>\n",
       "      <td>Musk Cat</td>\n",
       "      <td>Uto Gyoshi</td>\n",
       "      <td>Asian Art</td>\n",
       "      <td>1550</td>\n",
       "      <td>1599</td>\n",
       "      <td>Muromachi period (1392–1573)</td>\n",
       "      <td>Hanging scroll</td>\n",
       "      <td>Japan</td>\n",
       "    </tr>\n",
       "    <tr>\n",
       "      <th>0</th>\n",
       "      <td>36221</td>\n",
       "      <td>Cat</td>\n",
       "      <td>Wang Yun</td>\n",
       "      <td>Asian Art</td>\n",
       "      <td>1900</td>\n",
       "      <td>1933</td>\n",
       "      <td></td>\n",
       "      <td>Hanging scroll</td>\n",
       "      <td>China</td>\n",
       "    </tr>\n",
       "    <tr>\n",
       "      <th>0</th>\n",
       "      <td>60873</td>\n",
       "      <td>Head ornament</td>\n",
       "      <td></td>\n",
       "      <td>Asian Art</td>\n",
       "      <td>960</td>\n",
       "      <td>1279</td>\n",
       "      <td>Song dynasty (960–1279) or later</td>\n",
       "      <td>Head ornament</td>\n",
       "      <td>China</td>\n",
       "    </tr>\n",
       "  </tbody>\n",
       "</table>\n",
       "</div>"
      ],
      "text/plain": [
       "   objectID          title artistDisplayName department  objectBeginDate  \\\n",
       "0     49698            Cat     Zhang Yuguang  Asian Art             1900   \n",
       "0     49470            Cat           Wang Li  Asian Art             1813   \n",
       "0     53222       Musk Cat        Uto Gyoshi  Asian Art             1550   \n",
       "0     36221            Cat          Wang Yun  Asian Art             1900   \n",
       "0     60873  Head ornament                    Asian Art              960   \n",
       "\n",
       "   objectEndDate                            period  \\\n",
       "0           1968                                     \n",
       "0           1879          Qing dynasty (1644–1911)   \n",
       "0           1599      Muromachi period (1392–1573)   \n",
       "0           1933                                     \n",
       "0           1279  Song dynasty (960–1279) or later   \n",
       "\n",
       "                             objectName culture  \n",
       "0  Folding fan mounted as an album leaf   China  \n",
       "0                        Hanging scroll   China  \n",
       "0                        Hanging scroll   Japan  \n",
       "0                        Hanging scroll   China  \n",
       "0                         Head ornament   China  "
      ]
     },
     "execution_count": 13,
     "metadata": {},
     "output_type": "execute_result"
    }
   ],
   "source": [
    "asian_cats_df.head()"
   ]
  },
  {
   "cell_type": "code",
   "execution_count": 14,
   "metadata": {},
   "outputs": [
    {
     "data": {
      "text/plain": [
       "(3180, 9)"
      ]
     },
     "execution_count": 14,
     "metadata": {},
     "output_type": "execute_result"
    }
   ],
   "source": [
    "asian_cats_df.shape"
   ]
  },
  {
   "cell_type": "markdown",
   "metadata": {},
   "source": [
    "_Периоды по количеству работ_"
   ]
  },
  {
   "cell_type": "code",
   "execution_count": 15,
   "metadata": {},
   "outputs": [
    {
     "data": {
      "text/plain": [
       "period\n",
       "Edo period (1615–1868)                          1214\n",
       "                                                 468\n",
       "Ming dynasty (1368–1644)                         187\n",
       "Qing dynasty (1644–1911)                         155\n",
       "Muromachi period (1392–1573)                      97\n",
       "                                                ... \n",
       "Yuan (1271–1368) to Ming (1368–1644) dynasty       1\n",
       "Yuan (1271–1368) or Ming dynasty (1368–1644)       1\n",
       "Yuan (1271–1368)                                   1\n",
       "Yayoi period (ca. 300 BCE–ca. 400 CE)              1\n",
       "style of the Tang dynasty (618–907)                1\n",
       "Length: 214, dtype: int64"
      ]
     },
     "execution_count": 15,
     "metadata": {},
     "output_type": "execute_result"
    }
   ],
   "source": [
    "(\n",
    "asian_cats_df\n",
    "    .value_counts('period')\n",
    "    .sort_values(ascending=False)\n",
    ")"
   ]
  },
  {
   "cell_type": "code",
   "execution_count": null,
   "metadata": {},
   "outputs": [],
   "source": []
  },
  {
   "cell_type": "markdown",
   "metadata": {},
   "source": [
    "Inpired by: KCM2L7MP2"
   ]
  }
 ],
 "metadata": {
  "kernelspec": {
   "display_name": "Python 3 (ipykernel)",
   "language": "python",
   "name": "python3"
  },
  "language_info": {
   "codemirror_mode": {
    "name": "ipython",
    "version": 3
   },
   "file_extension": ".py",
   "mimetype": "text/x-python",
   "name": "python",
   "nbconvert_exporter": "python",
   "pygments_lexer": "ipython3",
   "version": "3.11.4"
  }
 },
 "nbformat": 4,
 "nbformat_minor": 4
}
